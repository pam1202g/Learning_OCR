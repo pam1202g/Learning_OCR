{
 "cells": [
  {
   "cell_type": "code",
   "execution_count": 1,
   "id": "faea71a9",
   "metadata": {},
   "outputs": [],
   "source": [
    "import pytesseract\n",
    "import cv2"
   ]
  },
  {
   "cell_type": "code",
   "execution_count": 4,
   "id": "31cccc13",
   "metadata": {},
   "outputs": [],
   "source": [
    "image_1 = cv2.imread(\"images_docs/pdf_text.png\")\n",
    "image_1 = cv2.cvtColor(image, cv2.COLOR_BGR2RGB)"
   ]
  },
  {
   "cell_type": "code",
   "execution_count": 8,
   "id": "bfa3f066",
   "metadata": {},
   "outputs": [
    {
     "name": "stdout",
     "output_type": "stream",
     "text": [
      "@ AcrobatReader File Edit View Sign Window Help\n",
      "\n",
      "»\n",
      "\n",
      "Wed 12 Oct 2:23 pm\n",
      "\n",
      "@ OGG: >\n",
      "\n",
      "ee@ THE-PEAR-SHAPE-WORKOUT-PLAN--9ab02t (1).pdf\n",
      "\n",
      "Home __ Tools THE-P... x Linear_... Advance... Linear_... Introdu... Elemen... Elemen...\n",
      "\n",
      "wee hRQqgqgqQsmXm kMO@O wex- BR FT ALCEW WA\n",
      "\n",
      "Every time you\n",
      "workout you\n",
      "are investing in your\n",
      "future health\n",
      "\n",
      "(@) A Sign In\n",
      "\n"
     ]
    }
   ],
   "source": [
    "text_1 = pytesseract.image_to_string(image_1)\n",
    "print(text_1)"
   ]
  },
  {
   "cell_type": "code",
   "execution_count": 10,
   "id": "d09fabbe",
   "metadata": {},
   "outputs": [],
   "source": [
    "image_2 = cv2.imread(\"images_docs/invoice.jpg\")\n",
    "image_2 = cv2.cvtColor(image_2, cv2.COLOR_BGR2RGB)"
   ]
  },
  {
   "cell_type": "code",
   "execution_count": 11,
   "id": "81ff09f7",
   "metadata": {},
   "outputs": [
    {
     "name": "stdout",
     "output_type": "stream",
     "text": [
      "C\n",
      "ik Supermarkets Australia Pty Ltd\n",
      "9X Invoice ABN: 45 004 189 708\n",
      "\n",
      "coles\n",
      "\n",
      "Value the Aushallan way\n",
      "\n",
      "Store: 860 - cs HORNSBY -\n",
      "\n",
      "Store Manager: Mark\n",
      "\n",
      "Phone: 02 9472 7600\n",
      "\n",
      "Served By: Assisted Checkout\n",
      "Register: 123 Receipt: 482\n",
      "Date: 10/10/2022 Tite © 13:25\n",
      "\n",
      "Description\n",
      "\n",
      "BROCCOLI PERKG\n",
      "0.636 kg NET @ $3 50/kg\n",
      "BROCCOLI PERKG a\n",
      "0.501 kg NET @ $3.50/kg\n",
      "LUCKY CHIC EGGS 12pK 700GRAM\n",
      "\n",
      "fotal for 3 jtens:\n",
      "\n",
      "I, ING UDED IN TOTAL\n",
      "\n",
      "\n"
     ]
    }
   ],
   "source": [
    "text_2 = pytesseract.image_to_string(image_2)\n",
    "print(text_2)"
   ]
  },
  {
   "cell_type": "code",
   "execution_count": null,
   "id": "9ea42b23",
   "metadata": {},
   "outputs": [],
   "source": []
  }
 ],
 "metadata": {
  "kernelspec": {
   "display_name": "Python 3 (ipykernel)",
   "language": "python",
   "name": "python3"
  },
  "language_info": {
   "codemirror_mode": {
    "name": "ipython",
    "version": 3
   },
   "file_extension": ".py",
   "mimetype": "text/x-python",
   "name": "python",
   "nbconvert_exporter": "python",
   "pygments_lexer": "ipython3",
   "version": "3.10.6"
  }
 },
 "nbformat": 4,
 "nbformat_minor": 5
}
